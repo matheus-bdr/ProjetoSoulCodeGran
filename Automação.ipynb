{
  "nbformat": 4,
  "nbformat_minor": 0,
  "metadata": {
    "colab": {
      "provenance": []
    },
    "kernelspec": {
      "name": "python3",
      "display_name": "Python 3"
    },
    "language_info": {
      "name": "python"
    }
  },
  "cells": [
    {
      "cell_type": "markdown",
      "source": [
        "#INICIANDO O AMBIENTE\n",
        "\n",
        "\n"
      ],
      "metadata": {
        "id": "c6jG_cjmqhXU"
      }
    },
    {
      "cell_type": "markdown",
      "source": [
        "INSTALANDO AS BIBLIOTECAS "
      ],
      "metadata": {
        "id": "jVFXbBQLDiZ4"
      }
    },
    {
      "cell_type": "code",
      "source": [
        "pip install gcsfs"
      ],
      "metadata": {
        "colab": {
          "base_uri": "https://localhost:8080/"
        },
        "id": "NijsoInT2r_b",
        "outputId": "66594f98-806d-4fbb-e81d-c01167325418"
      },
      "execution_count": null,
      "outputs": [
        {
          "output_type": "stream",
          "name": "stdout",
          "text": [
            "Looking in indexes: https://pypi.org/simple, https://us-python.pkg.dev/colab-wheels/public/simple/\n",
            "Collecting gcsfs\n",
            "  Downloading gcsfs-2023.4.0-py2.py3-none-any.whl (26 kB)\n",
            "Collecting aiohttp!=4.0.0a0,!=4.0.0a1\n",
            "  Downloading aiohttp-3.8.4-cp310-cp310-manylinux_2_17_x86_64.manylinux2014_x86_64.whl (1.0 MB)\n",
            "\u001b[2K     \u001b[90m━━━━━━━━━━━━━━━━━━━━━━━━━━━━━━━━━━━━━━━━\u001b[0m \u001b[32m1.0/1.0 MB\u001b[0m \u001b[31m9.1 MB/s\u001b[0m eta \u001b[36m0:00:00\u001b[0m\n",
            "\u001b[?25hRequirement already satisfied: requests in /usr/local/lib/python3.10/dist-packages (from gcsfs) (2.27.1)\n",
            "Requirement already satisfied: google-auth>=1.2 in /usr/local/lib/python3.10/dist-packages (from gcsfs) (2.17.3)\n",
            "Requirement already satisfied: google-auth-oauthlib in /usr/local/lib/python3.10/dist-packages (from gcsfs) (1.0.0)\n",
            "Requirement already satisfied: google-cloud-storage in /usr/local/lib/python3.10/dist-packages (from gcsfs) (2.8.0)\n",
            "Requirement already satisfied: decorator>4.1.2 in /usr/local/lib/python3.10/dist-packages (from gcsfs) (4.4.2)\n",
            "Requirement already satisfied: fsspec==2023.4.0 in /usr/local/lib/python3.10/dist-packages (from gcsfs) (2023.4.0)\n",
            "Collecting async-timeout<5.0,>=4.0.0a3\n",
            "  Downloading async_timeout-4.0.2-py3-none-any.whl (5.8 kB)\n",
            "Collecting frozenlist>=1.1.1\n",
            "  Downloading frozenlist-1.3.3-cp310-cp310-manylinux_2_5_x86_64.manylinux1_x86_64.manylinux_2_17_x86_64.manylinux2014_x86_64.whl (149 kB)\n",
            "\u001b[2K     \u001b[90m━━━━━━━━━━━━━━━━━━━━━━━━━━━━━━━━━━━━━━━\u001b[0m \u001b[32m149.6/149.6 kB\u001b[0m \u001b[31m7.1 MB/s\u001b[0m eta \u001b[36m0:00:00\u001b[0m\n",
            "\u001b[?25hRequirement already satisfied: attrs>=17.3.0 in /usr/local/lib/python3.10/dist-packages (from aiohttp!=4.0.0a0,!=4.0.0a1->gcsfs) (23.1.0)\n",
            "Collecting aiosignal>=1.1.2\n",
            "  Downloading aiosignal-1.3.1-py3-none-any.whl (7.6 kB)\n",
            "Requirement already satisfied: charset-normalizer<4.0,>=2.0 in /usr/local/lib/python3.10/dist-packages (from aiohttp!=4.0.0a0,!=4.0.0a1->gcsfs) (2.0.12)\n",
            "Collecting multidict<7.0,>=4.5\n",
            "  Downloading multidict-6.0.4-cp310-cp310-manylinux_2_17_x86_64.manylinux2014_x86_64.whl (114 kB)\n",
            "\u001b[2K     \u001b[90m━━━━━━━━━━━━━━━━━━━━━━━━━━━━━━━━━━━━━━━\u001b[0m \u001b[32m114.5/114.5 kB\u001b[0m \u001b[31m3.5 MB/s\u001b[0m eta \u001b[36m0:00:00\u001b[0m\n",
            "\u001b[?25hCollecting yarl<2.0,>=1.0\n",
            "  Downloading yarl-1.9.2-cp310-cp310-manylinux_2_17_x86_64.manylinux2014_x86_64.whl (268 kB)\n",
            "\u001b[2K     \u001b[90m━━━━━━━━━━━━━━━━━━━━━━━━━━━━━━━━━━━━━━\u001b[0m \u001b[32m268.8/268.8 kB\u001b[0m \u001b[31m15.0 MB/s\u001b[0m eta \u001b[36m0:00:00\u001b[0m\n",
            "\u001b[?25hRequirement already satisfied: cachetools<6.0,>=2.0.0 in /usr/local/lib/python3.10/dist-packages (from google-auth>=1.2->gcsfs) (5.3.0)\n",
            "Requirement already satisfied: pyasn1-modules>=0.2.1 in /usr/local/lib/python3.10/dist-packages (from google-auth>=1.2->gcsfs) (0.3.0)\n",
            "Requirement already satisfied: six>=1.9.0 in /usr/local/lib/python3.10/dist-packages (from google-auth>=1.2->gcsfs) (1.16.0)\n",
            "Requirement already satisfied: rsa<5,>=3.1.4 in /usr/local/lib/python3.10/dist-packages (from google-auth>=1.2->gcsfs) (4.9)\n",
            "Requirement already satisfied: requests-oauthlib>=0.7.0 in /usr/local/lib/python3.10/dist-packages (from google-auth-oauthlib->gcsfs) (1.3.1)\n",
            "Requirement already satisfied: google-resumable-media>=2.3.2 in /usr/local/lib/python3.10/dist-packages (from google-cloud-storage->gcsfs) (2.5.0)\n",
            "Requirement already satisfied: google-cloud-core<3.0dev,>=2.3.0 in /usr/local/lib/python3.10/dist-packages (from google-cloud-storage->gcsfs) (2.3.2)\n",
            "Requirement already satisfied: google-api-core!=2.0.*,!=2.1.*,!=2.2.*,!=2.3.0,<3.0.0dev,>=1.31.5 in /usr/local/lib/python3.10/dist-packages (from google-cloud-storage->gcsfs) (2.11.0)\n",
            "Requirement already satisfied: certifi>=2017.4.17 in /usr/local/lib/python3.10/dist-packages (from requests->gcsfs) (2022.12.7)\n",
            "Requirement already satisfied: urllib3<1.27,>=1.21.1 in /usr/local/lib/python3.10/dist-packages (from requests->gcsfs) (1.26.15)\n",
            "Requirement already satisfied: idna<4,>=2.5 in /usr/local/lib/python3.10/dist-packages (from requests->gcsfs) (3.4)\n",
            "Requirement already satisfied: googleapis-common-protos<2.0dev,>=1.56.2 in /usr/local/lib/python3.10/dist-packages (from google-api-core!=2.0.*,!=2.1.*,!=2.2.*,!=2.3.0,<3.0.0dev,>=1.31.5->google-cloud-storage->gcsfs) (1.59.0)\n",
            "Requirement already satisfied: protobuf!=3.20.0,!=3.20.1,!=4.21.0,!=4.21.1,!=4.21.2,!=4.21.3,!=4.21.4,!=4.21.5,<5.0.0dev,>=3.19.5 in /usr/local/lib/python3.10/dist-packages (from google-api-core!=2.0.*,!=2.1.*,!=2.2.*,!=2.3.0,<3.0.0dev,>=1.31.5->google-cloud-storage->gcsfs) (3.20.3)\n",
            "Requirement already satisfied: google-crc32c<2.0dev,>=1.0 in /usr/local/lib/python3.10/dist-packages (from google-resumable-media>=2.3.2->google-cloud-storage->gcsfs) (1.5.0)\n",
            "Requirement already satisfied: pyasn1<0.6.0,>=0.4.6 in /usr/local/lib/python3.10/dist-packages (from pyasn1-modules>=0.2.1->google-auth>=1.2->gcsfs) (0.5.0)\n",
            "Requirement already satisfied: oauthlib>=3.0.0 in /usr/local/lib/python3.10/dist-packages (from requests-oauthlib>=0.7.0->google-auth-oauthlib->gcsfs) (3.2.2)\n",
            "Installing collected packages: multidict, frozenlist, async-timeout, yarl, aiosignal, aiohttp, gcsfs\n",
            "Successfully installed aiohttp-3.8.4 aiosignal-1.3.1 async-timeout-4.0.2 frozenlist-1.3.3 gcsfs-2023.4.0 multidict-6.0.4 yarl-1.9.2\n"
          ]
        }
      ]
    },
    {
      "cell_type": "code",
      "source": [
        "!pip install pandera"
      ],
      "metadata": {
        "colab": {
          "base_uri": "https://localhost:8080/"
        },
        "id": "g6b3MYWT3CJz",
        "outputId": "89351bea-fc32-435f-99f1-126b19b129df"
      },
      "execution_count": null,
      "outputs": [
        {
          "output_type": "stream",
          "name": "stdout",
          "text": [
            "Looking in indexes: https://pypi.org/simple, https://us-python.pkg.dev/colab-wheels/public/simple/\n",
            "Collecting pandera\n",
            "  Downloading pandera-0.14.5-py3-none-any.whl (149 kB)\n",
            "\u001b[2K     \u001b[90m━━━━━━━━━━━━━━━━━━━━━━━━━━━━━━━━━━━━━━━\u001b[0m \u001b[32m149.3/149.3 kB\u001b[0m \u001b[31m9.4 MB/s\u001b[0m eta \u001b[36m0:00:00\u001b[0m\n",
            "\u001b[?25hRequirement already satisfied: pandas>=1.2.0 in /usr/local/lib/python3.10/dist-packages (from pandera) (1.5.3)\n",
            "Requirement already satisfied: numpy>=1.19.0 in /usr/local/lib/python3.10/dist-packages (from pandera) (1.22.4)\n",
            "Collecting multimethod\n",
            "  Downloading multimethod-1.9.1-py3-none-any.whl (10 kB)\n",
            "Collecting typing-inspect>=0.6.0\n",
            "  Downloading typing_inspect-0.8.0-py3-none-any.whl (8.7 kB)\n",
            "Requirement already satisfied: packaging>=20.0 in /usr/local/lib/python3.10/dist-packages (from pandera) (23.1)\n",
            "Requirement already satisfied: wrapt in /usr/local/lib/python3.10/dist-packages (from pandera) (1.14.1)\n",
            "Requirement already satisfied: pydantic in /usr/local/lib/python3.10/dist-packages (from pandera) (1.10.7)\n",
            "Requirement already satisfied: pytz>=2020.1 in /usr/local/lib/python3.10/dist-packages (from pandas>=1.2.0->pandera) (2022.7.1)\n",
            "Requirement already satisfied: python-dateutil>=2.8.1 in /usr/local/lib/python3.10/dist-packages (from pandas>=1.2.0->pandera) (2.8.2)\n",
            "Requirement already satisfied: typing-extensions>=3.7.4 in /usr/local/lib/python3.10/dist-packages (from typing-inspect>=0.6.0->pandera) (4.5.0)\n",
            "Collecting mypy-extensions>=0.3.0\n",
            "  Downloading mypy_extensions-1.0.0-py3-none-any.whl (4.7 kB)\n",
            "Requirement already satisfied: six>=1.5 in /usr/local/lib/python3.10/dist-packages (from python-dateutil>=2.8.1->pandas>=1.2.0->pandera) (1.16.0)\n",
            "Installing collected packages: mypy-extensions, multimethod, typing-inspect, pandera\n",
            "Successfully installed multimethod-1.9.1 mypy-extensions-1.0.0 pandera-0.14.5 typing-inspect-0.8.0\n"
          ]
        }
      ]
    },
    {
      "cell_type": "code",
      "source": [
        " !pip install pymongo"
      ],
      "metadata": {
        "colab": {
          "base_uri": "https://localhost:8080/"
        },
        "id": "34yWQCc83DrL",
        "outputId": "4dd0785f-ad5e-4b99-c132-ac055ad8bcfd"
      },
      "execution_count": null,
      "outputs": [
        {
          "output_type": "stream",
          "name": "stdout",
          "text": [
            "Looking in indexes: https://pypi.org/simple, https://us-python.pkg.dev/colab-wheels/public/simple/\n",
            "Collecting pymongo\n",
            "  Downloading pymongo-4.3.3-cp310-cp310-manylinux_2_17_x86_64.manylinux2014_x86_64.whl (492 kB)\n",
            "\u001b[2K     \u001b[90m━━━━━━━━━━━━━━━━━━━━━━━━━━━━━━━━━━━━━━\u001b[0m \u001b[32m492.9/492.9 kB\u001b[0m \u001b[31m21.4 MB/s\u001b[0m eta \u001b[36m0:00:00\u001b[0m\n",
            "\u001b[?25hCollecting dnspython<3.0.0,>=1.16.0\n",
            "  Downloading dnspython-2.3.0-py3-none-any.whl (283 kB)\n",
            "\u001b[2K     \u001b[90m━━━━━━━━━━━━━━━━━━━━━━━━━━━━━━━━━━━━━━\u001b[0m \u001b[32m283.7/283.7 kB\u001b[0m \u001b[31m15.5 MB/s\u001b[0m eta \u001b[36m0:00:00\u001b[0m\n",
            "\u001b[?25hInstalling collected packages: dnspython, pymongo\n",
            "Successfully installed dnspython-2.3.0 pymongo-4.3.3\n"
          ]
        }
      ]
    },
    {
      "cell_type": "markdown",
      "source": [
        "DECLARAÇÃO DE LIBS"
      ],
      "metadata": {
        "id": "RPQJNBmEDSIp"
      }
    },
    {
      "cell_type": "code",
      "execution_count": null,
      "metadata": {
        "id": "o5l9X1mPvhQ5"
      },
      "outputs": [],
      "source": [
        "import os\n",
        "import numpy as np\n",
        "import pandas as pd\n",
        "import pandera as pa\n",
        "from google.cloud import storage\n",
        "from datetime import date\n",
        "from google.colab import drive\n",
        "from google.cloud import bigquery\n",
        "\n",
        "import pymongo\n",
        "from pymongo import MongoClient\n",
        "import pandas as pd\n",
        "import numpy as np \n",
        "\n",
        "import matplotlib.pyplot as plt\n",
        "import seaborn as sns\n",
        "\n",
        "import warnings\n",
        "warnings.filterwarnings(\"ignore\")"
      ]
    },
    {
      "cell_type": "markdown",
      "source": [
        "CONECTANDO AO AMBIENTE GCP "
      ],
      "metadata": {
        "id": "HeaVQhOLqvwo"
      }
    },
    {
      "cell_type": "code",
      "source": [
        "# Acesso ao GCP\n",
        "serviceAccount = '/content/skilled-tuner-377718-395f300c8996.json'\n",
        "os.environ['GOOGLE_APPLICATION_CREDENTIALS'] = serviceAccount"
      ],
      "metadata": {
        "id": "U8-jO32YvlBl"
      },
      "execution_count": null,
      "outputs": []
    },
    {
      "cell_type": "markdown",
      "source": [
        "#CURSOS"
      ],
      "metadata": {
        "id": "m6avfcW3WbKg"
      }
    },
    {
      "cell_type": "markdown",
      "source": [
        "###RECEBIMENTO DOS DADOS VIA GCP"
      ],
      "metadata": {
        "id": "iA_ntOuhq4Fl"
      }
    },
    {
      "cell_type": "code",
      "source": [
        "\"\"\"Lists all the blobs in the bucket.\"\"\"\n",
        "\n",
        "storage_client = storage.Client()\n",
        "bucket_name = storage_client.get_bucket('projetofinal_soulcode')\n",
        "# Note: Client.list_blobs requires at least package version 1.17.0.\n",
        "blobs = storage_client.list_blobs(bucket_name)\n",
        "# Note: The call returns a response only when the iterator is consumed.\n",
        "\n",
        "brutus = [] #lista que vai receber os dados brutos \n",
        "brutes= [] #lista que vai receber o nome dos arquivo para fazer a alteração no campo curso \n",
        "nomeDosDf= [] #lista que vai servir como caminho do arquivo bruto para envio\n",
        "\n",
        "for blob in blobs:\n",
        "  if(blob.name[0] =='b' and blob.name[-1] =='x' and blob.name != 'brutos/usuarios.xlsx' and blob.name != 'brutos/leaderboard.xlsx'):\n",
        "    brutus.append(blob.name)\n",
        "    brutes.append(blob.name)   \n",
        "    nomeDosDf.append(blob.name)\n",
        "    print(brutus)\n",
        "    #o dado que está sendo recebido é o caminho do arquivo(pasta e nome do arquivo) exemplo: brutos/usuarios.xlsx\n",
        "    #todas as 3 listas estão recebendo o mesmo dado, mas a frente irá ter os tratamento deles e atribuir a suas respectivas finalidades "
      ],
      "metadata": {
        "id": "4uO5yB3W3Lv3"
      },
      "execution_count": null,
      "outputs": []
    },
    {
      "cell_type": "markdown",
      "source": [
        "**RECEBIMENTO DADOS**<BR>\n",
        "Fazendo um for para pegar os caminhos dos aququivos e logo em seguida colocar as tabelas dentro de uma lista"
      ],
      "metadata": {
        "id": "e7EADBm-q2Jz"
      }
    },
    {
      "cell_type": "code",
      "source": [
        "#atribuindo a uma variável o tamanho da lista para usarmos de métrica \n",
        "\n",
        "qtdTabela = len(brutus)"
      ],
      "metadata": {
        "id": "McXCi1lSbSId"
      },
      "execution_count": null,
      "outputs": []
    },
    {
      "cell_type": "code",
      "source": [
        "#aplicando o nome de cada elemento da lista no caminho para que todos os DataFrames possam ser puxados de uma vez do bucket \n",
        "#e armazenados na lista 'brutus[]'\n",
        "\n",
        "for i in range(qtdTabela):\n",
        "  path = f'gs://projetofinal_soulcode/{brutus[i]}'  \n",
        "  brutus[i]= pd.read_excel(path)"
      ],
      "metadata": {
        "id": "ZzFoHeTaTSV5"
      },
      "execution_count": null,
      "outputs": []
    },
    {
      "cell_type": "code",
      "source": [
        "brutus[0]"
      ],
      "metadata": {
        "id": "-kRSAikQbEW8"
      },
      "execution_count": null,
      "outputs": []
    },
    {
      "cell_type": "markdown",
      "source": [
        "###PRÉ ANALISE"
      ],
      "metadata": {
        "id": "fIgyk61NYMVY"
      }
    },
    {
      "cell_type": "markdown",
      "source": [
        "**DADOS BRUTOS BACKUP**"
      ],
      "metadata": {
        "id": "-yml673H9KXg"
      }
    },
    {
      "cell_type": "code",
      "source": [
        "#fazendo um backup da lista brutus[](que vai sofrer alteração) para uma nova lista\n",
        "#isso foi feito para que possamos subir os arquivos brutos no final da automoção \n",
        "dados_cursos_bruto = []\n",
        "for i in range(qtdTabela):\n",
        "  dados_cursos_bruto.append(brutus[i].copy())\n"
      ],
      "metadata": {
        "id": "dZ6yVYfm7sxp"
      },
      "execution_count": null,
      "outputs": []
    },
    {
      "cell_type": "markdown",
      "source": [
        "###TRATAMENTO DE DADOS"
      ],
      "metadata": {
        "id": "8oJDTaqtVl-R"
      }
    },
    {
      "cell_type": "markdown",
      "source": [
        "**DICIONARIO DE DADOS** "
      ],
      "metadata": {
        "id": "dSeMfDaBrf_N"
      }
    },
    {
      "cell_type": "code",
      "source": [
        "#criando um dicionário de dados para ser alterado o valor de brutes[] para o valor do dicionário   \n",
        "dicionarioDeCursos = { 'brutos/adminbd.xlsx': 'Administração de Banco de Dados',\n",
        "'brutos/androidfirebase.xlsx': 'Desenvolvimento Android e Firebase',\n",
        "'brutos/angular.xlsx' : 'Angular',\n",
        "'brutos/bancodedadosrelacional(1).xlsx': 'Banco de Dados Relacional',\n",
        "'brutos/bancodedadosrelacional.xlsx': 'Banco de Dados Relacional',\n",
        "'brutos/crieseuprimeiroappkotlin.xlsx': 'Crie Seu Primeiro App Com Kotlin',\n",
        "'brutos/dadosfinanceiroscompython.xlsx': 'Análise de Dados Financeiros Com Python',\n",
        "'brutos/datastudio.xlsx': 'Data Studio',\n",
        "'brutos/desenvolvimentowebbootstrap.xlsx': 'Desenvolvimento Web com Bootstrap',\n",
        "'brutos/desenvolvimentoweborientadoaobjeto.xlsx': 'Desenvolvimento Web Orientado a Objetos',\n",
        "'brutos/devops.xlsx': 'DevOps',\n",
        "'brutos/gitgithub.xlsx': 'Git e Github',\n",
        "'brutos/googlecloud.xlsx': 'Google Cloud Platform',\n",
        "'brutos/implementacaobd.xlsx': 'Implementação de Banco de Dados',\n",
        "'brutos/infraestruturadedados.xlsx': 'Infraestrutura de Dados',\n",
        "'brutos/introaws.xlsx': 'Introdução à Amazon Web Services (AWS)',\n",
        "'brutos/introducaoaia.xlsx': 'Introdução à Inteligência Artificial',\n",
        "'brutos/introducaodesenvolvimentoweb.xlsx': 'Introdução ao Desenvolvimento Web',\n",
        "'brutos/javaintroducao.xlsx': 'Java: Introdução à Linguagem',\n",
        "'brutos/javaorientado.xlsx': 'Java: Orientação a Objetos',\n",
        "'brutos/javaspring.xlsx': 'Java Spring Boot',\n",
        "'brutos/javaweb.xlsx': 'Java Web: Aprenda a Criar Sistemas Web Utilizando Java',\n",
        "'brutos/kotlinbasicoaoavancado.xlsx': 'Kotlin: Básico ao Avançado',\n",
        "'brutos/logicadeprogramacao.xlsx': 'Lógica de Programação',\n",
        "'brutos/metodologiaageis.xlsx': 'Metodologias Ágeis',\n",
        "'brutos/nosql.xlsx': 'Bancos de Dados Não Relacionais (NoSQL)',\n",
        "'brutos/powerbi.xlsx': 'Power BI',\n",
        "'brutos/pythonfinance2.xlsx': 'Python e Dados Financeiros',\n",
        "'brutos/pythonintroducaoalinguagem.xlsx': 'Python: Introdução à Linguagem',\n",
        "'brutos/pythonmachinelearning.xlsx': 'Machine Learning com Python',\n",
        "'brutos/pythonmanipulacaodedados.xlsx': 'Python: Manipulação de Dados Com Pandas e PySpark',\n",
        "'brutos/pythonorientadoaobjeto.xlsx': 'Python: Orientação a Objetos e Manipulação de Dados',\n",
        "'brutos/salesforce.xlsx': 'Salesforce'}"
      ],
      "metadata": {
        "id": "r5tAwP8CKplB"
      },
      "execution_count": null,
      "outputs": []
    },
    {
      "cell_type": "markdown",
      "source": [
        "**CRIAÇÃO DA COLUNA CURSO**"
      ],
      "metadata": {
        "id": "0EqL10iUfOve"
      }
    },
    {
      "cell_type": "code",
      "source": [
        "#indo ao dicionario, recebendo e colocando em brutes o valor(nome das coluna) \n",
        "for i in range(qtdTabela):\n",
        "  for chave, valor in dicionarioDeCursos.items():\n",
        "      if (brutes[i]==chave):\n",
        "        brutes[i] = valor\n",
        "else:('Nãodeu')"
      ],
      "metadata": {
        "id": "ZtfEXioxVn6g"
      },
      "execution_count": null,
      "outputs": []
    },
    {
      "cell_type": "code",
      "source": [
        "#inserindo a coluna cursos e atribuindo o valor dela respectivamente com a quantidade de cursos \n",
        "for i in range(qtdTabela):\n",
        "  valor = brutes[i]\n",
        "  brutus[i] = brutus[i].assign(Curso=valor)\n",
        "  "
      ],
      "metadata": {
        "id": "tR71YRmsY-PI"
      },
      "execution_count": null,
      "outputs": []
    },
    {
      "cell_type": "markdown",
      "source": [
        "**TRADUÇÃO DAS COLUNAS**"
      ],
      "metadata": {
        "id": "suiPwN193Wyu"
      }
    },
    {
      "cell_type": "code",
      "source": [
        "#traduzindo todos os nomes de colunas, de todas as tabelas, para renomear para o PT-BR \n",
        "for i in range(qtdTabela):\n",
        "  brutus[i].rename(columns={'ID_usuário': 'ID_usuario',\n",
        "                   'Número_de_série_certificado': 'Numero_de_serie_certificado',\n",
        "                   'name': 'Nome',\n",
        "                   'email': 'E-mail',\n",
        "                   'user_id': 'ID_usuario',\n",
        "                   'enrollments_created_at': 'Matriculado_em',\n",
        "                   'percent_complete': 'Percentual_completado',\n",
        "                   'certificate_serial_number': 'Numero_de_serie_certificado'\n",
        "                   },\n",
        "                   inplace = True)"
      ],
      "metadata": {
        "id": "2eRvY_9Y22jy"
      },
      "execution_count": null,
      "outputs": []
    },
    {
      "cell_type": "markdown",
      "source": [
        "**ALTERAÇÃO NA DATA/HORA**"
      ],
      "metadata": {
        "id": "U0I2n628WJUN"
      }
    },
    {
      "cell_type": "code",
      "source": [
        "# Converter a coluna de datas para o formato de data/hora se já não tiver (de todos os 33 df)\n",
        "for i in range(qtdTabela):\n",
        "  brutus[i]['Matriculado_em'] = pd.to_datetime(brutus[i]['Matriculado_em'])\n",
        "  brutus[i]['Matriculado_em'] = brutus[i]['Matriculado_em'].dt.strftime('%d-%m-%Y %H:%M')"
      ],
      "metadata": {
        "id": "dk37PDt8A5Yh"
      },
      "execution_count": null,
      "outputs": []
    },
    {
      "cell_type": "markdown",
      "source": [
        "**ALTERAÇÃO NA COLUNA NOME**"
      ],
      "metadata": {
        "id": "zeFTOPNTY0_G"
      }
    },
    {
      "cell_type": "code",
      "source": [
        "# Para colocar a primeira letra de cada nome em letra maiúscula(de todos os 33 df): \n",
        "for i in range(qtdTabela):\n",
        "  brutus[i]['Nome'] = brutus[i]['Nome'].str.split().apply(lambda x: ' '.join([word.title() for word in x]))"
      ],
      "metadata": {
        "id": "i68PvBDQ4bSc"
      },
      "execution_count": null,
      "outputs": []
    },
    {
      "cell_type": "markdown",
      "source": [
        "**NULOS OU AUSENTES**"
      ],
      "metadata": {
        "id": "T3De8XFrY5-H"
      }
    },
    {
      "cell_type": "code",
      "source": [
        "# Verificação de valores duplicados(de todos os 33 df):\n",
        "for i in range(qtdTabela):\n",
        "  brutus[i].duplicated().sum()"
      ],
      "metadata": {
        "id": "tlC3DKN94m8f"
      },
      "execution_count": null,
      "outputs": []
    },
    {
      "cell_type": "code",
      "source": [
        "#removendo valores duplicados(de todos os 33 df):\n",
        "brutus[i].drop_duplicates()"
      ],
      "metadata": {
        "id": "2L9NWTDt4y3W"
      },
      "execution_count": null,
      "outputs": []
    },
    {
      "cell_type": "markdown",
      "source": [
        "**VALIDAÇÃO SCHEMA**"
      ],
      "metadata": {
        "id": "F5bfwnGT5CrE"
      }
    },
    {
      "cell_type": "code",
      "source": [
        "#validando o schemma dos dfs\n",
        "schema = pa.DataFrameSchema(columns = {'Nome':pa.Column(pa.String),\n",
        "                                       'E-mail':pa.Column(pa.String),\n",
        "                                       'ID_usuario':pa.Column(pa.String),\n",
        "                                       'Matriculado_em':pa.Column(pa.DateTime),\n",
        "                                       'Percentual_completado':pa.Column(pa.Int),\n",
        "                                       'Numero_de_serie_certificado':pa.Column(pa.String),\n",
        "                                       'Curso':pa.Column(pa.String)\n",
        "                                      }\n",
        "                           )"
      ],
      "metadata": {
        "id": "WCR-PfVM5CVS"
      },
      "execution_count": null,
      "outputs": []
    },
    {
      "cell_type": "markdown",
      "source": [
        "**SUBSTITUIÇÃO NULOS OU AUSENTES**"
      ],
      "metadata": {
        "id": "04W6pKJfY_d7"
      }
    },
    {
      "cell_type": "code",
      "source": [
        "brutus[0].isna().sum()"
      ],
      "metadata": {
        "colab": {
          "base_uri": "https://localhost:8080/"
        },
        "id": "o6ci6D00w-og",
        "outputId": "ec6be2b3-1f38-4ed1-b419-da1b9d9fef56"
      },
      "execution_count": null,
      "outputs": [
        {
          "output_type": "execute_result",
          "data": {
            "text/plain": [
              "Nome                            0\n",
              "E-mail                          0\n",
              "ID_usuario                      0\n",
              "Matriculado_em                  0\n",
              "Percentual_completado           0\n",
              "Numero_de_serie_certificado    61\n",
              "Curso                           0\n",
              "dtype: int64"
            ]
          },
          "metadata": {},
          "execution_count": 21
        }
      ]
    },
    {
      "cell_type": "code",
      "source": [
        "#verificando valores nulos ou ausentes(de todos os 33 df):\n",
        "for i in range(qtdTabela):\n",
        "  brutus[i].isna().sum()"
      ],
      "metadata": {
        "id": "KPOq69z5mSZY"
      },
      "execution_count": null,
      "outputs": []
    },
    {
      "cell_type": "markdown",
      "source": [
        "**COPIA DE DF EM VARIAVEIS** <BR>\n",
        "tirando o dataframe de uma lista e colocando cada DataFrame em variavel "
      ],
      "metadata": {
        "id": "qjFb88wIPLq_"
      }
    },
    {
      "cell_type": "code",
      "source": [
        "#caso queira um dataframe especifico, foi feito uma validação com o elemento da coluna \n",
        "#e criado uma viariavel que recebe o dataframe, logo em seguida é só chamar o df  \n",
        "for i in range(qtdTabela):\n",
        "  if(brutus[i].loc[0,'Curso']=='Administração de Banco de Dados'):\n",
        "    df_adminbd = brutus[i].copy()\n",
        "\n",
        "for i in range(qtdTabela):\n",
        "  if(brutus[i].loc[0,'Curso']=='Desenvolvimento Android e Firebase'):\n",
        "    df_androidfirebase = brutus[i].copy()\n",
        "\n",
        "for i in range(qtdTabela):\n",
        "  if(brutus[i].loc[0,'Curso']=='Angular'):\n",
        "    df_angular = brutus[i].copy()\n",
        "\n",
        "for i in range(qtdTabela):\n",
        "  if(brutus[i].loc[0,'Curso']=='Banco de Dados Relacional'):\n",
        "    df_bancodedadosrelacional1 = brutus[i].copy()\n",
        "\n",
        "for i in range(qtdTabela):\n",
        "  if(brutus[i].loc[0,'Curso']=='Banco de Dados Relacional'):\n",
        "    df_bancodedadosrelacional = brutus[i].copy()\n",
        "\n",
        "for i in range(qtdTabela):\n",
        "  if(brutus[i].loc[0,'Curso']=='Crie Seu Primeiro App Com Kotlin'):\n",
        "    df_crieseuprimeiroappkotlin = brutus[i].copy()\n",
        "\n",
        "for i in range(qtdTabela):\n",
        "  if(brutus[i].loc[0,'Curso']=='Análise de Dados Financeiros Com Python'):\n",
        "    df_dadosfinanceiroscompython = brutus[i].copy()\n",
        "\n",
        "for i in range(qtdTabela):\n",
        "  if(brutus[i].loc[0,'Curso']=='Data Studio'):\n",
        "     df_datastudio = brutus[i].copy()\n",
        "\n",
        "for i in range(qtdTabela):\n",
        "  if(brutus[i].loc[0,'Curso']=='Desenvolvimento Web com Bootstrap'):\n",
        "    df_desenvolvimentowebbootstrap = brutus[i].copy()\n",
        "\n",
        "for i in range(qtdTabela):\n",
        "  if(brutus[i].loc[0,'Curso']=='Desenvolvimento Web Orientado a Objetos'):\n",
        "    df_desenvolvimentoweborientadoaobjeto = brutus[i].copy()\n",
        "\n",
        "for i in range(qtdTabela):\n",
        "  if(brutus[i].loc[0,'Curso']=='DevOps'):\n",
        "    df_devops = brutus[i].copy()\n",
        "\n",
        "for i in range(qtdTabela):\n",
        "  if(brutus[i].loc[0,'Curso']=='Git e Github'):\n",
        "    df_gitgithub = brutus[i].copy()\n",
        "\n",
        "for i in range(qtdTabela):\n",
        "  if(brutus[i].loc[0,'Curso']=='Google Cloud Platform'):\n",
        "    df_googlecloud = brutus[i].copy()\n",
        "\n",
        "for i in range(qtdTabela):\n",
        "  if(brutus[i].loc[0,'Curso']=='Infraestrutura de Dados'):\n",
        "     df_implementacaobd = brutus[i].copy()\n",
        "\n",
        "for i in range(qtdTabela):\n",
        "  if(brutus[i].loc[0,'Curso']=='Introdução à Amazon Web Services (AWS)'):\n",
        "    df_infraestruturadedados = brutus[i].copy()\n",
        "\n",
        "for i in range(qtdTabela):\n",
        "  if(brutus[i].loc[0,'Curso']=='Introdução à Inteligência Artificial'):\n",
        "    df_introaws = brutus[i].copy()\n",
        "\n",
        "for i in range(qtdTabela):\n",
        "  if(brutus[i].loc[0,'Curso']=='Introdução ao Desenvolvimento Web'):\n",
        "    df_introducaoaia = brutus[i].copy()\n",
        "\n",
        "for i in range(qtdTabela):\n",
        "  if(brutus[i].loc[0,'Curso']=='Java: Introdução à Linguagem'):\n",
        "    df_introducaodesenvolvimentoweb = brutus[i].copy()\n",
        "\n",
        "for i in range(qtdTabela):\n",
        "  if(brutus[i].loc[0,'Curso']=='Java: Orientação a Objetos'):\n",
        "    df_javaintroducao = brutus[i].copy()\n",
        "\n",
        "for i in range(qtdTabela):\n",
        "  if(brutus[i].loc[0,'Curso']=='Java Spring Boot'):\n",
        "    df_javaorientado = brutus[i].copy()\n",
        "\n",
        "for i in range(qtdTabela):\n",
        "  if(brutus[i].loc[0,'Curso']=='Java Web'):\n",
        "    df_javaweb = brutus[i].copy()\n",
        "\n",
        "for i in range(qtdTabela):\n",
        "  if(brutus[i].loc[0,'Curso']=='Kotlin'):\n",
        "    df_kotlinbasicoaoavancado = brutus[i].copy()\n",
        "\n",
        "for i in range(qtdTabela):\n",
        "  if(brutus[i].loc[0,'Curso']=='Lógica de Programação'):\n",
        "    df_logicadeprogramacao = brutus[i].copy()\n",
        "\n",
        "for i in range(qtdTabela):\n",
        "  if(brutus[i].loc[0,'Curso']=='Metodologias Ágeis'):\n",
        "    df_metodologiaageis = brutus[i].copy()\n",
        "\n",
        "for i in range(qtdTabela):\n",
        "  if(brutus[i].loc[0,'Curso']=='Bancos de Dados Não Relacionais (NoSQL)'):\n",
        "    df_nosql = brutus[i].copy()\n",
        "\n",
        "for i in range(qtdTabela):\n",
        "  if(brutus[i].loc[0,'Curso']=='Power BI'):\n",
        "    df_powerbi = brutus[i].copy()\n",
        "\n",
        "for i in range(qtdTabela):\n",
        "  if(brutus[i].loc[0,'Curso']=='Python e Dados Financeiros'):\n",
        "    df_pythonfinance2 = brutus[i].copy()\n",
        "\n",
        "for i in range(qtdTabela):\n",
        "  if(brutus[i].loc[0,'Curso']=='Python: Introdução à Linguagem'):\n",
        "    df_pythonintroducaoalinguagem = brutus[i].copy()\n",
        "\n",
        "for i in range(qtdTabela):\n",
        "  if(brutus[i].loc[0,'Curso']=='Machine Learning com Python'):\n",
        "    df_pythonmachinelearning = brutus[i].copy()\n",
        "\n",
        "for i in range(qtdTabela):\n",
        "  if(brutus[i].loc[0,'Curso']=='Python: Manipulação de Dados Com Pandas e PySpark'):\n",
        "    df_pythonmanipulacaodedados = brutus[i].copy()\n",
        "\n",
        "for i in range(qtdTabela):\n",
        "  if(brutus[i].loc[0,'Curso']=='Python: Orientação a Objetos e Manipulação de Dados'):\n",
        "    df_pythonorientadoaobjeto = brutus[i].copy()\n",
        "\n",
        "for i in range(qtdTabela):\n",
        "  if(brutus[i].loc[0,'Curso']=='Salesforce'):\n",
        "    df_salesforce = brutus[i].copy()\n"
      ],
      "metadata": {
        "id": "wo2V-i8pr4ov"
      },
      "execution_count": null,
      "outputs": []
    },
    {
      "cell_type": "markdown",
      "source": [
        "**DICIONÁRIO DE DATAFRAMES**<br>\n",
        "Administração de Banco de Dados = df_adminbd,<br>\n",
        "Desenvolvimento Android e Firebase = df_androidfirebase,<br>\n",
        "Angular = df_angular,<br>\n",
        "Banco de Dados Relacional = df_bancodedadosrelacional(1),<br>\n",
        "Banco de Dados Relacional = df_bancodedadosrelacional,<br>\n",
        "Crie Seu Primeiro App Com Kotlin = df_crieseuprimeiroappkotlin,<br>\n",
        "Análise de Dados Financeiros Com Python = df_dadosfinanceiroscompython,<br>\n",
        "Data Studio = df_datastudio,<br>\n",
        "Desenvolvimento Web com Bootstrap = df_desenvolvimentowebbootstrap,<br>\n",
        "Desenvolvimento Web Orientado a Objetos = df_desenvolvimentoweborientadoaobjeto,<br>\n",
        "DevOps = df_devops,<br>\n",
        "Git e Github = df_gitgithub,<br>\n",
        "Google Cloud Platform = df_googlecloud,<br>\n",
        "Implementação de Banco de Dados = df_implementacaobd,<br>\n",
        "Infraestrutura de Dados = df_infraestruturadedados,<br>\n",
        "Introdução à Amazon Web Services (AWS) = df_introaws,<br>\n",
        "Introdução à Inteligência Artificial = df_introducaoaia,<br>\n",
        "Introdução ao Desenvolvimento Web = df_introducaodesenvolvimentoweb,<br>\n",
        "Java: Introdução à Linguagem = df_javaintroducao,<br>\n",
        "Java: Orientação a Objetos = df_javaorientado,<br>\n",
        "Java Spring Boot = df_javaspring,<br>\n",
        "Java Web: Aprenda a Criar Sistemas Web Utilizando Java = df_javaweb,<br>\n",
        "Kotlin: Básico ao Avançado = df_kotlinbasicoaoavancado,<br>\n",
        "Lógica de Programação = df_logicadeprogramacao,<br>\n",
        "Metodologias Ágeis = df_metodologiaageis,<br>\n",
        "Bancos de Dados Não Relacionais (NoSQL) = df_nosql,<br>\n",
        "Power BI = df_powerbi,<br>\n",
        "Python e Dados Financeiros = df_pythonfinance2,<br>\n",
        "Python: Introdução à Linguagem = df_pythonintroducaoalinguagem,<br>\n",
        "Machine Learning com Python = df_pythonmachinelearning,<br>\n",
        "Python: Manipulação de Dados Com Pandas e PySpark = df_pythonmanipulacaodedados,<br>\n",
        "Python: Orientação a Objetos e Manipulação de Dados = df_pythonorientadoaobjeto,<br>\n",
        "brutos/salesforce.xlsx = df_salesforce<br>\n",
        "\n"
      ],
      "metadata": {
        "id": "ArwTAg03XtaF"
      }
    },
    {
      "cell_type": "markdown",
      "source": [
        "#USUÁRIOS "
      ],
      "metadata": {
        "id": "ARxCP1N8Xwse"
      }
    },
    {
      "cell_type": "markdown",
      "source": [
        "###RECEBIMENTO DE DADOS VIA GCP"
      ],
      "metadata": {
        "id": "wgph1L-sUxQP"
      }
    },
    {
      "cell_type": "markdown",
      "source": [
        "**RECEBENDO DADOS**"
      ],
      "metadata": {
        "id": "EyKrUBSfZ-uk"
      }
    },
    {
      "cell_type": "code",
      "source": [
        "#recebendo a tabela \"Usuários\" separado por ter um tratamento diferente das outras 33\n",
        "client = storage.Client()\n",
        "\n",
        "bucket = client.get_bucket('projetofinal_soulcode')\n",
        "\n",
        "bucket.blob('usuarios.xlsx')\n",
        "\n",
        "path = 'gs://projetofinal_soulcode/brutos/usuarios.xlsx'"
      ],
      "metadata": {
        "id": "Iu1fyykUzMA5"
      },
      "execution_count": null,
      "outputs": []
    },
    {
      "cell_type": "code",
      "source": [
        "#lendo o df usuarios\n",
        "df_usuarios = pd.read_excel(path)"
      ],
      "metadata": {
        "id": "0nf8twOQzNiZ"
      },
      "execution_count": null,
      "outputs": []
    },
    {
      "cell_type": "markdown",
      "source": [
        "**COPA DO DF ORIGINAL**"
      ],
      "metadata": {
        "id": "YXuKyAmPaCsF"
      }
    },
    {
      "cell_type": "code",
      "source": [
        "#realizando um backup para enviar como bruto\n",
        "df_usuarios_brutos = df_usuarios.copy()"
      ],
      "metadata": {
        "id": "4QO1qBA8oBvd"
      },
      "execution_count": null,
      "outputs": []
    },
    {
      "cell_type": "code",
      "source": [
        "#verificando os tipos das colunas\n",
        "df_usuarios.dtypes"
      ],
      "metadata": {
        "id": "Nv58MUgBzSF1"
      },
      "execution_count": null,
      "outputs": []
    },
    {
      "cell_type": "markdown",
      "source": [
        "###TRATAMENTO DE DADOS\n"
      ],
      "metadata": {
        "id": "Urrx0uiNzXhO"
      }
    },
    {
      "cell_type": "markdown",
      "source": [
        "**RENOMEANDO COLUNAS**"
      ],
      "metadata": {
        "id": "fnDVaGAgaMzq"
      }
    },
    {
      "cell_type": "code",
      "source": [
        "#Renomeando colunas trazendo para o PT-BR\n",
        "df_usuarios.rename(columns={'userid':'ID_Usuario','fullname':'Nome','email':'Email','lastlogin':'Ultimo_login'},inplace=True)\n",
        "df_usuarios.rename(columns={'joined_at':'Matriculou_em','course_count' :'Contagem_de_cursos','src':'Src','country':'Pais'},inplace=True)\n",
        "df_usuarios.rename(columns={'sign_in_count':'Contagem_de_login','unsubscribe_from_marketing_emails':'Cancelar_a_assinatura_de_emails_de_marketing','affiliate_code':'Codigo_de_afiliado','billing_address_line':'Linha_de_endereco_de_faturamento'},inplace=True)\n",
        "df_usuarios.rename(columns={'billing_address_city':'Cidade_do_endereco_de_cobranca','billing_address_region':'Regiao_do_endereco_de_cobranca','billing_address_zipcode' :'CEP_do_endereco_de_cobranca','billing_address_country':'Pais_do_endereco_de_cobranca'},inplace=True)\n",
        "df_usuarios.rename(columns={'delivery_address_line':'Linha_do_endereco_de_entrega','delivery_address_city':'Cidade_do_endereco_de_entrega'},inplace=True)\n",
        "df_usuarios.rename(columns={'delivery_address_region':'Regiao_do_endereco_de_entrega','delivery_address_zipcode':'CEP_do_endereco_de_entrega','delivery_address_country':'Pais_do_endereco_de_entrega'},inplace=True)"
      ],
      "metadata": {
        "id": "ualpJS_szUPl"
      },
      "execution_count": null,
      "outputs": []
    },
    {
      "cell_type": "code",
      "source": [
        "df_usuarios.dtypes"
      ],
      "metadata": {
        "id": "WmWSDqSQzgu7"
      },
      "execution_count": null,
      "outputs": []
    },
    {
      "cell_type": "markdown",
      "source": [
        "**ALTERAÇÃO NA DATA/HORA**"
      ],
      "metadata": {
        "id": "RM1xOUirzj2T"
      }
    },
    {
      "cell_type": "code",
      "source": [
        "#mudando o campo de data para deixar padronizado \n",
        "df_usuarios['Matriculou_em'] = pd.to_datetime(df_usuarios['Matriculou_em'])\n",
        "df_usuarios['Matriculou_em'] = df_usuarios['Matriculou_em'].dt.strftime('%d-%m-%Y')\n"
      ],
      "metadata": {
        "id": "1VcQuHvszmkJ"
      },
      "execution_count": null,
      "outputs": []
    },
    {
      "cell_type": "code",
      "source": [
        "#mudando o campo de data para deixar padronizado \n",
        "df_usuarios['Ultimo_login'] = pd.to_datetime(df_usuarios['Ultimo_login'])\n",
        "df_usuarios['Ultimo_login'] = df_usuarios['Ultimo_login'].dt.strftime('%d-%m-%Y')"
      ],
      "metadata": {
        "id": "B6BCYthCzn3N"
      },
      "execution_count": null,
      "outputs": []
    },
    {
      "cell_type": "markdown",
      "source": [
        "**ALTERAÇÃO NA COLUNA NOME**  "
      ],
      "metadata": {
        "id": "RaBgK0GnztgA"
      }
    },
    {
      "cell_type": "code",
      "source": [
        "#mudando o campo nome para deixar padronizado \n",
        "df_usuarios['Nome'] = df_usuarios['Nome'].str.split().apply(lambda x: ' '.join([word.title() for word in x]))"
      ],
      "metadata": {
        "id": "aULFeuKmzo-F"
      },
      "execution_count": null,
      "outputs": []
    },
    {
      "cell_type": "markdown",
      "source": [
        "**DROP DA COLUNA TAGS**"
      ],
      "metadata": {
        "id": "srr-C2iUz0uF"
      }
    },
    {
      "cell_type": "code",
      "source": [
        "#excluindo a coluna \"tags\" por só ter um unico valor \n",
        "df_usuarios.drop(['tags'], axis=1,inplace=True)"
      ],
      "metadata": {
        "id": "IUVlyT1kz1hp"
      },
      "execution_count": null,
      "outputs": []
    },
    {
      "cell_type": "markdown",
      "source": [
        "**ALTERAÇÃO DO VALOR DA COLUNA**"
      ],
      "metadata": {
        "id": "yMmr6tjiz7TF"
      }
    },
    {
      "cell_type": "code",
      "source": [
        "#verificando valores unicos da coluna\n",
        "sorted(pd.unique(df_usuarios['Cancelar_a_assinatura_de_emails_de_marketing']))"
      ],
      "metadata": {
        "colab": {
          "base_uri": "https://localhost:8080/"
        },
        "id": "_GHqtzGDz4dj",
        "outputId": "17926a9d-e313-4671-d2ea-e86fa0b3b7e2"
      },
      "execution_count": null,
      "outputs": [
        {
          "output_type": "execute_result",
          "data": {
            "text/plain": [
              "[0.0, 1.0, nan]"
            ]
          },
          "metadata": {},
          "execution_count": 34
        }
      ]
    },
    {
      "cell_type": "code",
      "source": [],
      "metadata": {
        "id": "mZ7qA2Mrl8ND"
      },
      "execution_count": null,
      "outputs": []
    },
    {
      "cell_type": "code",
      "source": [
        "#Trocando os valores da coluna \"Cancelar_a_assinatura_de_e-mails_de_marketing\" de '0','1' para verdadeiro e falso  \n",
        "filtroverdadeiro = df_usuarios.Cancelar_a_assinatura_de_emails_de_marketing == 1.0\n",
        "df_usuarios.loc[filtroverdadeiro,'Cancelar_a_assinatura_de_emails_de_marketing'] = 'Verdadeiro'\n",
        "filtrofalso = df_usuarios.Cancelar_a_assinatura_de_emails_de_marketing == 0.0\n",
        "df_usuarios.loc[filtrofalso,'Cancelar_a_assinatura_de_emails_de_marketing'] = 'Falso'"
      ],
      "metadata": {
        "id": "MFkLBCAFz-uH"
      },
      "execution_count": null,
      "outputs": []
    },
    {
      "cell_type": "markdown",
      "source": [
        "**TRATAMENTO DE DADOS NA/NAN**\n"
      ],
      "metadata": {
        "id": "pBbRQMWs0JKb"
      }
    },
    {
      "cell_type": "code",
      "source": [
        "df_usuarios.info()"
      ],
      "metadata": {
        "id": "47KezjEitb0P"
      },
      "execution_count": null,
      "outputs": []
    },
    {
      "cell_type": "code",
      "source": [
        "#verificando valores nulos e ausentes de cada coluna\n",
        "df_usuarios.isna().sum()"
      ],
      "metadata": {
        "id": "VsMa_CCe0D_Q"
      },
      "execution_count": null,
      "outputs": []
    },
    {
      "cell_type": "markdown",
      "source": [
        "\n",
        "#LEADERBOARD"
      ],
      "metadata": {
        "id": "zttw114z0q65"
      }
    },
    {
      "cell_type": "markdown",
      "source": [
        "###RECEBIMENTO VIA GCP"
      ],
      "metadata": {
        "id": "Bhp6jdZ4VByE"
      }
    },
    {
      "cell_type": "markdown",
      "source": [
        "**RECEBIMENTO DADOS**"
      ],
      "metadata": {
        "id": "AoJC5jI2ZT2c"
      }
    },
    {
      "cell_type": "code",
      "source": [
        "#recebendo a tabela \"leaderboard\" separado por ter um tratamento diferente das outras 33\n",
        "client = storage.Client()\n",
        "\n",
        "bucket = client.get_bucket('projetofinal_soulcode')\n",
        "\n",
        "bucket.blob('leaderboard.xlsx')\n",
        "\n",
        "path = 'gs://projetofinal_soulcode/brutos/leaderboard.xlsx'"
      ],
      "metadata": {
        "id": "Jm_nunH9P_oK"
      },
      "execution_count": null,
      "outputs": []
    },
    {
      "cell_type": "code",
      "source": [
        "df_leaderboard = pd.read_excel(path)"
      ],
      "metadata": {
        "id": "5sbjNlx0Rmta"
      },
      "execution_count": null,
      "outputs": []
    },
    {
      "cell_type": "code",
      "source": [
        "#backup bruto df_leaderboard\n",
        "df_leaderboard_bruto = df_leaderboard.copy()"
      ],
      "metadata": {
        "id": "zjLDy3y1SMyR"
      },
      "execution_count": null,
      "outputs": []
    },
    {
      "cell_type": "markdown",
      "source": [
        "###PRÉ ANÁLISE"
      ],
      "metadata": {
        "id": "0SuS7XHoUIyP"
      }
    },
    {
      "cell_type": "code",
      "source": [
        "df_leaderboard"
      ],
      "metadata": {
        "id": "EmbT1-tMUOjq"
      },
      "execution_count": null,
      "outputs": []
    },
    {
      "cell_type": "markdown",
      "source": [
        "###TRATAMENTO DE DADOS"
      ],
      "metadata": {
        "id": "0ji5Yp3WURfc"
      }
    },
    {
      "cell_type": "markdown",
      "source": [
        "**RENOMEANDO COLUNAS**"
      ],
      "metadata": {
        "id": "OErxXLcbZYB6"
      }
    },
    {
      "cell_type": "code",
      "source": [
        "#traduzindo todos os nomes de colunas, de df_leaderboard, para renomear para o PT-BR \n",
        "df_leaderboard.rename(columns={'ID_usuário': 'ID_usuario',\n",
        "                   'Número_de_série_certificado': 'Numero_de_serie_certificado',\n",
        "                   'name': 'Nome',\n",
        "                   'email': 'E-mail',\n",
        "                   'user_id': 'ID_usuario',\n",
        "                   'enrollments_created_at': 'Matriculado_em',\n",
        "                   'percent_complete': 'Percentual_completado',\n",
        "                   'certificate_serial_number': 'Numero_de_serie_certificado'\n",
        "                   },\n",
        "                   inplace = True)"
      ],
      "metadata": {
        "id": "LGWbPCnBQiTP"
      },
      "execution_count": null,
      "outputs": []
    },
    {
      "cell_type": "markdown",
      "source": [
        "**ALTERAÇÃO NA DATA/HORA**"
      ],
      "metadata": {
        "id": "88yO2AUkZc86"
      }
    },
    {
      "cell_type": "code",
      "source": [
        "# Converter a coluna de datas para o formato de data/hora se já não tiver (de df_leaderboard)\n",
        "\n",
        "df_leaderboard['Matriculado_em'] = pd.to_datetime(df_leaderboard['Matriculado_em'])\n",
        "\n",
        "df_leaderboard['Matriculado_em'] = df_leaderboard['Matriculado_em'].dt.strftime('%d-%m-%Y %H:%M')\n"
      ],
      "metadata": {
        "id": "eOPZOLp1Qjbw"
      },
      "execution_count": null,
      "outputs": []
    },
    {
      "cell_type": "markdown",
      "source": [
        "**ALTERAÇÃO NA NOLUNA NOME**"
      ],
      "metadata": {
        "id": "RkY0KjxaZjXV"
      }
    },
    {
      "cell_type": "code",
      "source": [
        "# Para colocar a primeira letra de cada nome em letra maiúscula(de df_leaderboard): \n",
        "\n",
        "df_leaderboard['Nome'] = df_leaderboard['Nome'].str.split().apply(lambda x: ' '.join([word.title() for word in x]))"
      ],
      "metadata": {
        "id": "GBWCOufdQjBf"
      },
      "execution_count": null,
      "outputs": []
    },
    {
      "cell_type": "markdown",
      "source": [
        "**VALORES DUPLICADOS**"
      ],
      "metadata": {
        "id": "IeQ7pMUgZpgR"
      }
    },
    {
      "cell_type": "code",
      "source": [
        "# Verificação de valores duplicados(de df_leaderboard):\n",
        "df_leaderboard.duplicated().sum()"
      ],
      "metadata": {
        "colab": {
          "base_uri": "https://localhost:8080/"
        },
        "id": "_4qE9dfzQi6X",
        "outputId": "52c90818-ee82-419d-a30d-e3d7415067f0"
      },
      "execution_count": null,
      "outputs": [
        {
          "output_type": "execute_result",
          "data": {
            "text/plain": [
              "0"
            ]
          },
          "metadata": {},
          "execution_count": 45
        }
      ]
    },
    {
      "cell_type": "code",
      "source": [
        "#removendo valores duplicados(de df_leaderboard):\n",
        "df_leaderboard.drop_duplicates()"
      ],
      "metadata": {
        "id": "Btl9VHcuRZYj"
      },
      "execution_count": null,
      "outputs": []
    },
    {
      "cell_type": "markdown",
      "source": [
        "**SCHEMA**"
      ],
      "metadata": {
        "id": "yL_yUkGfZuEi"
      }
    },
    {
      "cell_type": "code",
      "source": [
        "#validando o schema de df_leaderboard\n",
        "schema = pa.DataFrameSchema(columns = {'Nome':pa.Column(pa.String),\n",
        "                                       'E-mail':pa.Column(pa.String),\n",
        "                                       'ID_usuario':pa.Column(pa.String),\n",
        "                                       'Matriculado_em':pa.Column(pa.DateTime),\n",
        "                                       'Percentual_completado':pa.Column(pa.Int),\n",
        "                                       'Numero_de_serie_certificado':pa.Column(pa.String),\n",
        "                                       'Curso':pa.Column(pa.String)\n",
        "                                      }\n",
        "                           )"
      ],
      "metadata": {
        "id": "vJ4CYHb3RcCz"
      },
      "execution_count": null,
      "outputs": []
    },
    {
      "cell_type": "markdown",
      "source": [
        "**VALORES NA/NAN**"
      ],
      "metadata": {
        "id": "RQKqr8GmZw0T"
      }
    },
    {
      "cell_type": "code",
      "source": [
        "# Substituindo os valores nulos(de df_leaderboard):\n",
        "# df_leaderboard = df_leaderboard.fillna({'Numero_de_serie_certificado': '-'})"
      ],
      "metadata": {
        "id": "yBaUxScURd1E"
      },
      "execution_count": null,
      "outputs": []
    },
    {
      "cell_type": "code",
      "source": [
        "#verificando valores nulos ou ausentes(de df_leaderboard):\n",
        "df_leaderboard.isna().sum()"
      ],
      "metadata": {
        "id": "YKM8qt6VRfuP"
      },
      "execution_count": null,
      "outputs": []
    },
    {
      "cell_type": "markdown",
      "source": [
        "#TABELÃO "
      ],
      "metadata": {
        "id": "t_jH4kkmjSCf"
      }
    },
    {
      "cell_type": "code",
      "source": [
        "#concatenando a todas as colundas dos 33 dfs para um df só.  \n",
        "df_tabelao = pd.concat(brutus)"
      ],
      "metadata": {
        "id": "8rMOMfQ4jRdn"
      },
      "execution_count": null,
      "outputs": []
    },
    {
      "cell_type": "markdown",
      "source": [
        "#IMPORTAÇÕES"
      ],
      "metadata": {
        "id": "IR9LvCQH1iGf"
      }
    },
    {
      "cell_type": "markdown",
      "source": [
        "##.. "
      ],
      "metadata": {
        "id": "5Cm4BKCsN2Kr"
      }
    },
    {
      "cell_type": "markdown",
      "source": [
        "**MUDANDO LISTA \"nomeDosDf\"**"
      ],
      "metadata": {
        "id": "-sT6S4a4a903"
      }
    },
    {
      "cell_type": "code",
      "source": [
        "#entrando na lista, acessando cada elemento de string, retirando o 'brutos/' e o '.xlsx'\n",
        "for i in range(qtdTabela):\n",
        "  if(nomeDosDf[i][0:6] in 'brutos/'): \n",
        "    n = nomeDosDf[i][7:-5]\n",
        "    nomeDosDf[i] = n \n",
        "  else:(print ('deu errado'))"
      ],
      "metadata": {
        "id": "OJYPo6uOAhS4"
      },
      "execution_count": null,
      "outputs": []
    },
    {
      "cell_type": "code",
      "source": [
        "#verificando os valores recebidos acima\n",
        "nomeDosDf"
      ],
      "metadata": {
        "id": "slq1MTK-e_CW"
      },
      "execution_count": null,
      "outputs": []
    },
    {
      "cell_type": "markdown",
      "source": [
        "#ENVIANDO PARA O BUCKET"
      ],
      "metadata": {
        "id": "aS4s4vAGcfXd"
      }
    },
    {
      "cell_type": "markdown",
      "source": [
        "###TRATADOS"
      ],
      "metadata": {
        "id": "WiNR3lQ5bYZf"
      }
    },
    {
      "cell_type": "markdown",
      "source": [
        "**CURSOS**"
      ],
      "metadata": {
        "id": "sfb2BVU6e7Xz"
      }
    },
    {
      "cell_type": "code",
      "source": [
        "#enviando os 33 dataframes relacionados a cursos tratados para a pasta \"tratados_automocao_xlsx\" do bucket(em forma de excel)\n",
        "for i in range(qtdTabela):\n",
        "  brutus[i].to_excel(f'gs://projetofinal_soulcode/tratados_automocao_xlsx/{nomeDosDf[i]}.xlsx', index=False)"
      ],
      "metadata": {
        "id": "6aksGxI-53Vy"
      },
      "execution_count": null,
      "outputs": []
    },
    {
      "cell_type": "code",
      "source": [
        "#enviando os 33 dataframes relacionados a cursos tratados para a pasta \"tratados_automocao_csv\" do bucket(em forma de csv)\n",
        "for i in range(qtdTabela):\n",
        "  brutus[i].to_csv(f'gs://projetofinal_soulcode/tratados_automocao_csv/{nomeDosDf[i]}.csv', index=False)"
      ],
      "metadata": {
        "id": "x6KbPJ0H6Uud"
      },
      "execution_count": null,
      "outputs": []
    },
    {
      "cell_type": "code",
      "source": [
        "#salvando o arquivo excel no pc \n",
        "df_tabelao.to_excel(f'df_tabelao.xlsx', index=False)"
      ],
      "metadata": {
        "id": "KwZw7uTw_NOq"
      },
      "execution_count": null,
      "outputs": []
    },
    {
      "cell_type": "markdown",
      "source": [
        "**USUÁRIOS**"
      ],
      "metadata": {
        "id": "5il5ui5pfFCo"
      }
    },
    {
      "cell_type": "code",
      "source": [
        "#enviando o dataframe \"Usuário\" tratado em, respectivamente, excel e csv\n",
        "df_usuarios.to_excel(f'gs://projetofinal_soulcode/tratados_automocao_xlsx/usuarios_tratados.xlsx', index=False)\n",
        "df_usuarios.to_csv(f'gs://projetofinal_soulcode/tratados_automocao_csv/usuarios_tratados.csv', index=False)   "
      ],
      "metadata": {
        "id": "aJsd64T5obE_"
      },
      "execution_count": null,
      "outputs": []
    },
    {
      "cell_type": "markdown",
      "source": [
        "**LEADERBOARD**"
      ],
      "metadata": {
        "id": "wyjrdNzufJB0"
      }
    },
    {
      "cell_type": "code",
      "source": [
        "#enviando o dataframe \"leaderboard\" tratado em, respectivamente, excel e csv\n",
        "df_leaderboard.to_excel(f'gs://projetofinal_soulcode/tratados_automocao_xlsx/df_leaderboard.xlsx', index=False)\n",
        "df_leaderboard.to_csv(f'gs://projetofinal_soulcode/tratados_automocao_csv/df_leaderboard.csv', index=False)   \n"
      ],
      "metadata": {
        "id": "d9fZbjsHTETD"
      },
      "execution_count": null,
      "outputs": []
    },
    {
      "cell_type": "markdown",
      "source": [
        "**TABELAO**"
      ],
      "metadata": {
        "id": "-cjSRy8HfKVr"
      }
    },
    {
      "cell_type": "code",
      "source": [
        "#enviando o dataframe \"tabelao\" tratado em excel \n",
        "df_tabelao.to_excel(f'gs://projetofinal_soulcode/tratados_automocao_xlsx/df_tabelao.xlsx', index=False)\n"
      ],
      "metadata": {
        "id": "nknFlMNOebeD"
      },
      "execution_count": null,
      "outputs": []
    },
    {
      "cell_type": "code",
      "source": [
        "#transformando o aquivo do excel para csv \n",
        "df_emcsv = pd.DataFrame(pd.read_excel(\"df_tabelao.xlsx\"))"
      ],
      "metadata": {
        "id": "0On9sqVU-nMp"
      },
      "execution_count": null,
      "outputs": []
    },
    {
      "cell_type": "code",
      "source": [
        "#enviando o dataframe \"tabelao\" tratado em csv\n",
        "df_emcsv.to_csv(f'gs://projetofinal_soulcode/tratados_automocao_csv/tabelaonovo.csv', index=False) "
      ],
      "metadata": {
        "id": "DGcZHzmm_Gtx"
      },
      "execution_count": null,
      "outputs": []
    },
    {
      "cell_type": "markdown",
      "source": [
        "###BRUTOS"
      ],
      "metadata": {
        "id": "fhRC7CZ-wjfe"
      }
    },
    {
      "cell_type": "markdown",
      "source": [
        "**CURSOS**"
      ],
      "metadata": {
        "id": "gOrdHoLwe9ED"
      }
    },
    {
      "cell_type": "code",
      "source": [
        "#enviando os 33 dataframes relacionados a cursos brutos para a pasta \"arquivos_originais_excel\" do bucket(em forma de excel)\n",
        "for i in range(qtdTabela):\n",
        "  dados_cursos_bruto[i].to_excel(f'gs://projetofinal_soulcode/arquivos_originais_excel/{nomeDosDf[i]}.xlsx', index=False)\n"
      ],
      "metadata": {
        "id": "_32Dy336nUXE"
      },
      "execution_count": null,
      "outputs": []
    },
    {
      "cell_type": "code",
      "source": [
        "#enviando os 33 dataframes relacionados a cursos brutos para a pasta \"brutos_automocao_csv\" do bucket(em forma de csv)\n",
        "for i in range(qtdTabela):\n",
        "  dados_cursos_bruto[i].to_csv(f'gs://projetofinal_soulcode/brutos_automocao_csv/{nomeDosDf[i]}.csv', index=False)\n"
      ],
      "metadata": {
        "id": "JaGi5sNwnGId"
      },
      "execution_count": null,
      "outputs": []
    },
    {
      "cell_type": "markdown",
      "source": [
        "**USUÁRIOS**"
      ],
      "metadata": {
        "id": "6tbuo_2rfCmv"
      }
    },
    {
      "cell_type": "code",
      "source": [
        "#enviando o dataframe \"Usuário\" bruto em, respectivamente, excel e csv\n",
        "df_usuarios_brutos.to_excel(f'gs://projetofinal_soulcode/arquivos_originais_excel/df_usuarios_brutos.xlsx', index=False)\n",
        "df_usuarios_brutos.to_csv(f'gs://projetofinal_soulcode/brutos_automocao_csv/df_usuarios_brutos.csv', index=False)"
      ],
      "metadata": {
        "id": "SSWFH051oaFJ"
      },
      "execution_count": null,
      "outputs": []
    },
    {
      "cell_type": "markdown",
      "source": [
        "**LEADERBOARD**"
      ],
      "metadata": {
        "id": "d7i5Laf8fHs5"
      }
    },
    {
      "cell_type": "code",
      "source": [
        "#enviando o dataframe \"leaderboard\" bruto em, respectivamente, excel e csv\n",
        "df_leaderboard_bruto.to_excel(f'gs://projetofinal_soulcode/arquivos_originais_excel/df_leaderboard_bruto.xlsx', index=False)\n",
        "df_leaderboard_bruto.to_csv(f'gs://projetofinal_soulcode/brutos_automocao_csv/df_leaderboard_bruto.csv', index=False)"
      ],
      "metadata": {
        "id": "Ec_qTidqS1pK"
      },
      "execution_count": null,
      "outputs": []
    },
    {
      "cell_type": "markdown",
      "source": [
        "#SALVANDO NO COMPUTADOR "
      ],
      "metadata": {
        "id": "taYUQ2d2b6Th"
      }
    },
    {
      "cell_type": "markdown",
      "source": [
        "###TRATADOS"
      ],
      "metadata": {
        "id": "5aVBQ5P6cVcG"
      }
    },
    {
      "cell_type": "markdown",
      "source": [
        "**CURSOS**"
      ],
      "metadata": {
        "id": "POW53vv6dcpj"
      }
    },
    {
      "cell_type": "code",
      "source": [
        "for i in range(qtdTabela):\n",
        "  brutus[i].to_csv(f'{nomeDosDf[i]}.csv', index=False)"
      ],
      "metadata": {
        "id": "6Oop0CuockgG"
      },
      "execution_count": null,
      "outputs": []
    },
    {
      "cell_type": "code",
      "source": [
        "for i in range(qtdTabela):\n",
        "  brutus[i].to_excel(f'{nomeDosDf[i]}.xlsx', index=False)"
      ],
      "metadata": {
        "id": "N6E_dwSacuBC"
      },
      "execution_count": null,
      "outputs": []
    },
    {
      "cell_type": "markdown",
      "source": [
        "**USUÁRIOS**"
      ],
      "metadata": {
        "id": "zrQrkqbUdjGm"
      }
    },
    {
      "cell_type": "code",
      "source": [
        "df_usuarios.to_excel(f'df_usuarios.xlsx', index=False)\n",
        "df_usuarios.to_csv(f'df_usuarios.csv', index=False)   "
      ],
      "metadata": {
        "id": "rmpuVXQnc2I3"
      },
      "execution_count": null,
      "outputs": []
    },
    {
      "cell_type": "markdown",
      "source": [
        "**LEADERBOARD**"
      ],
      "metadata": {
        "id": "YH_UP2BidqEJ"
      }
    },
    {
      "cell_type": "code",
      "source": [
        "df_leaderboard.to_excel(f'df_leaderboard.xlsx', index=False)\n",
        "df_leaderboard.to_csv(f'df_leaderboard.csv', index=False)   "
      ],
      "metadata": {
        "id": "1gyqUl3vc_C8"
      },
      "execution_count": null,
      "outputs": []
    },
    {
      "cell_type": "markdown",
      "source": [
        "**TABELAO**"
      ],
      "metadata": {
        "id": "er9URun_dtLD"
      }
    },
    {
      "cell_type": "code",
      "source": [
        "df_tabelao.to_excel(f'df_tabelao.xlsx', index=False)\n",
        "df_tabelao.to_csv(f'df_tabelao.csv', index=False)   "
      ],
      "metadata": {
        "id": "EcKBNKQbdBc1"
      },
      "execution_count": null,
      "outputs": []
    },
    {
      "cell_type": "markdown",
      "source": [
        "###BRUTOS"
      ],
      "metadata": {
        "id": "xvsr0JWAcZQY"
      }
    },
    {
      "cell_type": "markdown",
      "source": [
        "**CURSOS**"
      ],
      "metadata": {
        "id": "RZu5VQ63d3aZ"
      }
    },
    {
      "cell_type": "code",
      "source": [
        "for i in range(qtdTabela):\n",
        "  brutus[i].to_csv(f'{nomeDosDf[i]}.csv', index=False)"
      ],
      "metadata": {
        "id": "-9AIMPpzdFi3"
      },
      "execution_count": null,
      "outputs": []
    },
    {
      "cell_type": "code",
      "source": [
        "for i in range(qtdTabela):\n",
        "  brutus[i].to_excel(f'{nomeDosDf[i]}.xlsx', index=False)"
      ],
      "metadata": {
        "id": "8sgVMSBjdHSx"
      },
      "execution_count": null,
      "outputs": []
    },
    {
      "cell_type": "markdown",
      "source": [
        "**USUARIOS**"
      ],
      "metadata": {
        "id": "b7yBtvAzd2Bo"
      }
    },
    {
      "cell_type": "code",
      "source": [
        "df_usuarios_brutos.to_excel(f'usuarios_brutos.xlsx', index=False)\n",
        "df_usuarios_brutos.to_csv(f'usuarios_brutos.csv', index=False)   "
      ],
      "metadata": {
        "id": "HYDgDWnbdJZh"
      },
      "execution_count": null,
      "outputs": []
    },
    {
      "cell_type": "markdown",
      "source": [
        "**LEADERBOARD**"
      ],
      "metadata": {
        "id": "k8MUumk2d5NA"
      }
    },
    {
      "cell_type": "code",
      "source": [
        "df_leaderboard_bruto.to_excel(f'df_leaderboard_bruto.xlsx', index=False)\n",
        "df_leaderboard_bruto.to_csv(f'df_leaderboard_bruto.csv', index=False)  "
      ],
      "metadata": {
        "id": "_0R-sXcLdLQB"
      },
      "execution_count": null,
      "outputs": []
    },
    {
      "cell_type": "markdown",
      "source": [
        "#ENVIAR DIRETO PARA O BIGQUERY\n"
      ],
      "metadata": {
        "id": "Op85JunP6iOa"
      }
    },
    {
      "cell_type": "markdown",
      "source": [
        "###TRATADOS"
      ],
      "metadata": {
        "id": "fiSaOt8Jfwfd"
      }
    },
    {
      "cell_type": "code",
      "source": [
        "client = bigquery.Client()"
      ],
      "metadata": {
        "id": "mUCPjZw1748d"
      },
      "execution_count": null,
      "outputs": []
    },
    {
      "cell_type": "markdown",
      "source": [
        "**CURSOS**"
      ],
      "metadata": {
        "id": "lRcYUPJOjSYd"
      }
    },
    {
      "cell_type": "code",
      "source": [
        "#Enviando dataset dos cursos \n",
        "dataset_id = 'projetofinaltratados'\n",
        "dataset_ref = client.dataset(dataset_id)\n",
        "dataset = bigquery.Dataset(dataset_ref)\n",
        "dataset.location = 'US'\n",
        "client.create_dataset('tabelas_cursos')"
      ],
      "metadata": {
        "id": "r_yp1DHc7ykJ"
      },
      "execution_count": null,
      "outputs": []
    },
    {
      "cell_type": "code",
      "source": [
        "for i in range (qtdTabela):\n",
        "  table_name = 'tabelas_cursos'\n",
        "  table_ref = dataset_ref.table(table_name)\n",
        "  job_config = bigquery.LoadJobConfig()\n",
        "  job_config.autodetect = True\n",
        "  job_config.source_format = bigquery.SourceFormat.CSV\n",
        "  job_config.skip_leading_rows = 1\n",
        "  source_uri = f'gs://projetofinal_soulcode/tratados_automocao_csv/{nomeDosDf[i]}.csv'\n",
        "\n",
        "  job = client.load_table_from_uri(\n",
        "          source_uri,\n",
        "          table_ref,\n",
        "          location='US',\n",
        "          job_config=job_config)  \n",
        "  job.result()"
      ],
      "metadata": {
        "id": "csmjIgoL74Jz"
      },
      "execution_count": null,
      "outputs": []
    },
    {
      "cell_type": "markdown",
      "source": [
        "**USUÁRIO**"
      ],
      "metadata": {
        "id": "K744PjHsjTEu"
      }
    },
    {
      "cell_type": "code",
      "source": [
        "#Enviando dataset de usuários\n",
        "dataset_id = 'projetofinaltratados'\n",
        "dataset_ref = client.dataset(dataset_id)\n",
        "dataset = bigquery.Dataset(dataset_ref)\n",
        "dataset.location = 'US'\n",
        "client.create_dataset('usuarios')"
      ],
      "metadata": {
        "id": "FZ2qpb2F7zKq"
      },
      "execution_count": null,
      "outputs": []
    },
    {
      "cell_type": "code",
      "source": [
        "table_name = 'usuarios'\n",
        "table_ref = dataset_ref.table(table_name)\n",
        "job_config = bigquery.LoadJobConfig()\n",
        "job_config.autodetect = True\n",
        "job_config.source_format = bigquery.SourceFormat.CSV\n",
        "job_config.skip_leading_rows = 1\n",
        "source_uri = 'gs://projetofinal_soulcode/tratados_automocao_csv/usuarios_tratados.csv'\n",
        "\n",
        "job = client.load_table_from_uri(\n",
        "        source_uri,\n",
        "        table_ref,\n",
        "        location='US',\n",
        "        job_config=job_config)  \n",
        "job.result()"
      ],
      "metadata": {
        "id": "3HEM-cH8731L"
      },
      "execution_count": null,
      "outputs": []
    },
    {
      "cell_type": "markdown",
      "source": [
        "**LEADERBOARD**"
      ],
      "metadata": {
        "id": "2XeBF2a5jUVu"
      }
    },
    {
      "cell_type": "code",
      "source": [
        "#Enviando dataset de usuários\n",
        "dataset_id = 'projetofinaltratados'\n",
        "dataset_ref = client.dataset(dataset_id)\n",
        "dataset = bigquery.Dataset(dataset_ref)\n",
        "dataset.location = 'US'\n",
        "client.create_dataset('leaderboard')"
      ],
      "metadata": {
        "id": "nj1lD6RI7zuC"
      },
      "execution_count": null,
      "outputs": []
    },
    {
      "cell_type": "code",
      "source": [
        "table_name = 'leaderboard'\n",
        "table_ref = dataset_ref.table(table_name)\n",
        "job_config = bigquery.LoadJobConfig()\n",
        "job_config.autodetect = True\n",
        "job_config.source_format = bigquery.SourceFormat.CSV\n",
        "job_config.skip_leading_rows = 1\n",
        "source_uri = 'gs://projetofinal_soulcode/tratados_automocao_csv/df_leaderboard.csv'\n",
        "\n",
        "job = client.load_table_from_uri(\n",
        "        source_uri,\n",
        "        table_ref,\n",
        "        location='US',\n",
        "        job_config=job_config)  \n",
        "job.result()"
      ],
      "metadata": {
        "id": "aMywbKrG73UT"
      },
      "execution_count": null,
      "outputs": []
    },
    {
      "cell_type": "markdown",
      "source": [
        "**TABELAO**"
      ],
      "metadata": {
        "id": "X0LY8ixPjTcX"
      }
    },
    {
      "cell_type": "code",
      "source": [
        "dataset_id = 'projetofinaltratados'\n",
        "dataset_ref = client.dataset(dataset_id)\n",
        "dataset = bigquery.Dataset(dataset_ref)\n",
        "dataset.location = 'US'\n",
        "client.create_dataset('tabelao')"
      ],
      "metadata": {
        "id": "oeYlsZMm729q"
      },
      "execution_count": null,
      "outputs": []
    },
    {
      "cell_type": "code",
      "source": [
        "table_name = 'tabelao'\n",
        "table_ref = dataset_ref.table(table_name)\n",
        "job_config = bigquery.LoadJobConfig()\n",
        "job_config.autodetect = True\n",
        "job_config.source_format = bigquery.SourceFormat.CSV\n",
        "job_config.skip_leading_rows = 1\n",
        "source_uri = 'gs://projetofinal_soulcode/tratados_automocao_csv/df_tabelao.csv'\n",
        "\n",
        "job = client.load_table_from_uri(\n",
        "        source_uri,\n",
        "        table_ref,\n",
        "        location='US',\n",
        "        job_config=job_config)  \n",
        "job.result()"
      ],
      "metadata": {
        "id": "Xuxvatgy72uD"
      },
      "execution_count": null,
      "outputs": []
    },
    {
      "cell_type": "markdown",
      "source": [
        "#ENVIANDO PARA O MONGODB"
      ],
      "metadata": {
        "id": "uY3lkPRBf-Yz"
      }
    },
    {
      "cell_type": "markdown",
      "source": [
        "###TRATADOS"
      ],
      "metadata": {
        "id": "LkQ08vDUgG7o"
      }
    },
    {
      "cell_type": "markdown",
      "source": [
        "**CONECTOR MONGODB**"
      ],
      "metadata": {
        "id": "_JOX0LdzY1pD"
      }
    },
    {
      "cell_type": "code",
      "source": [
        "uri = \"mongodb+srv://clusteraula0.on8lj7t.mongodb.net/?authSource=%24external&authMechanism=MONGODB-X509&retryWrites=true&w=majority\"\n",
        "client2 = MongoClient(uri,\n",
        "                     tls=True,\n",
        "                     tlsCertificateKeyFile='/content/X509-cert-854953342432239118.pem',\n",
        "                     )"
      ],
      "metadata": {
        "id": "iF833UwDJSpG"
      },
      "execution_count": null,
      "outputs": []
    },
    {
      "cell_type": "markdown",
      "source": [
        "**CURSOS**"
      ],
      "metadata": {
        "id": "f8a5XYJhic_9"
      }
    },
    {
      "cell_type": "code",
      "source": [
        "for i in range(qtdTabela):\n",
        "\n",
        "  db = client2['Tratados_ProjetoFinal']\n",
        "  colecao = db[f'{nomeDosDf[i]}.xls']\n",
        "   \n",
        "  df_dict = brutus[i].to_dict(\"records\")\n",
        "\n",
        "  colecao.insert_many(df_dict)"
      ],
      "metadata": {
        "id": "icLbm_da_7XW"
      },
      "execution_count": null,
      "outputs": []
    },
    {
      "cell_type": "markdown",
      "source": [
        "**USUÁRIOS** "
      ],
      "metadata": {
        "id": "n9mwbLdOicdl"
      }
    },
    {
      "cell_type": "code",
      "source": [
        "db1 = client2['Tratados_ProjetoFinal']\n",
        "colecao = db1['usuarios.xls']\n",
        "   \n",
        "df_dict = df_usuarios.to_dict(\"records\")\n",
        "\n",
        "colecao.insert_many(df_dict)"
      ],
      "metadata": {
        "id": "4z3SETbOAIxL"
      },
      "execution_count": null,
      "outputs": []
    },
    {
      "cell_type": "markdown",
      "source": [
        "**LEADERBOARD**"
      ],
      "metadata": {
        "id": "V_tMnCqsicTl"
      }
    },
    {
      "cell_type": "code",
      "source": [
        "db2 = client2['Tratados_ProjetoFinal']\n",
        "colecao = db2['leaderboard.xls']\n",
        "   \n",
        "df_dict = df_leaderboard.to_dict(\"records\")\n",
        "\n",
        "colecao.insert_many(df_dict)"
      ],
      "metadata": {
        "id": "1Dw0EP6UAJld"
      },
      "execution_count": null,
      "outputs": []
    },
    {
      "cell_type": "markdown",
      "source": [
        "**TABELAO**"
      ],
      "metadata": {
        "id": "-e6qkVJiibdc"
      }
    },
    {
      "cell_type": "code",
      "source": [
        "db3 = client2['Tratados_ProjetoFinal']\n",
        "colecao = db3['tabelao.xls']\n",
        "   \n",
        "df_dict = df_tabelao.to_dict(\"records\")\n",
        "\n",
        "colecao.insert_many(df_dict)"
      ],
      "metadata": {
        "id": "Lc_gWOfaAKDO"
      },
      "execution_count": null,
      "outputs": []
    },
    {
      "cell_type": "markdown",
      "source": [
        "###BRUTOS"
      ],
      "metadata": {
        "id": "Mybon5EvgIdT"
      }
    },
    {
      "cell_type": "markdown",
      "source": [
        "**CURSOS**"
      ],
      "metadata": {
        "id": "1dz2pdQYi_P1"
      }
    },
    {
      "cell_type": "code",
      "source": [
        "for i in range(qtdTabela):\n",
        "\n",
        "  db4 = client2['Brutos_ProjetoFinal']\n",
        "  colecao = db4[f'{nomeDosDf[i]}.xls']\n",
        "   \n",
        "  df_dict = dados_cursos_bruto[i].to_dict(\"records\")\n",
        "\n",
        "  colecao.insert_many(df_dict)"
      ],
      "metadata": {
        "id": "s0ZpPzIF_XOw"
      },
      "execution_count": null,
      "outputs": []
    },
    {
      "cell_type": "markdown",
      "source": [
        "**USUÁRIOS** "
      ],
      "metadata": {
        "id": "lPw2B-wMjCRG"
      }
    },
    {
      "cell_type": "code",
      "source": [
        "db5 = client2['Brutos_ProjetoFinal']\n",
        "colecaoproj = db5['Usuário_bruto_final']\n",
        "   \n",
        "df_dict = df_usuarios_brutos.to_dict(\"records\")\n",
        "\n",
        "colecao.insert_many(df_dict)"
      ],
      "metadata": {
        "id": "k6HSK8kgARCH"
      },
      "execution_count": null,
      "outputs": []
    },
    {
      "cell_type": "markdown",
      "source": [
        "**LEADERBOARD**"
      ],
      "metadata": {
        "id": "aNMnWbKbjB4G"
      }
    },
    {
      "cell_type": "code",
      "source": [
        "db6 = client2['Brutos_ProjetoFinal']\n",
        "colecao = db6['leaderboard.xls']\n",
        "   \n",
        "df_dict = df_leaderboard_bruto.to_dict(\"records\")\n",
        "\n",
        "colecao.insert_many(df_dict)"
      ],
      "metadata": {
        "id": "54i9QztzASEp"
      },
      "execution_count": null,
      "outputs": []
    },
    {
      "cell_type": "markdown",
      "source": [
        "#POSSIVEIS INCONSISTÊNCIAS "
      ],
      "metadata": {
        "id": "aZT6uQBPmRto"
      }
    },
    {
      "cell_type": "code",
      "source": [
        "df_usuarios_insights = df_usuarios.copy()"
      ],
      "metadata": {
        "id": "yxtB2QRrvBWU"
      },
      "execution_count": null,
      "outputs": []
    },
    {
      "cell_type": "markdown",
      "source": [
        "##USUÁRIOS GRAN E SOULCODE"
      ],
      "metadata": {
        "id": "ngOoVp3jmZfZ"
      }
    },
    {
      "cell_type": "code",
      "source": [
        "filtrogran = df_usuarios_insights.Email.str[-23:] == 'grancursosonline.com.br'\n",
        "df_filtrogran = df_usuarios_insights.loc[filtrogran] "
      ],
      "metadata": {
        "id": "mwu6B1G3w_Et"
      },
      "execution_count": null,
      "outputs": []
    },
    {
      "cell_type": "code",
      "source": [
        "df_filtrogran"
      ],
      "metadata": {
        "id": "PphOLS8wZUBb"
      },
      "execution_count": null,
      "outputs": []
    },
    {
      "cell_type": "code",
      "source": [
        "filtrosoulcode = df_usuarios_insights.Email.str[-12:] == 'soulcode.com'\n",
        "df_filtrosoulcode = df_usuarios_insights.loc[filtrosoulcode] "
      ],
      "metadata": {
        "id": "heSq24OkxdYC"
      },
      "execution_count": null,
      "outputs": []
    },
    {
      "cell_type": "markdown",
      "source": [
        "##35 CURSOS"
      ],
      "metadata": {
        "id": "VYMimRoWms1i"
      }
    },
    {
      "cell_type": "code",
      "source": [
        "filtro_35 = df_usuarios_insights.Contagem_de_cursos == 35\n",
        "df_filtro_35 = df_usuarios_insights.loc[filtro_35] "
      ],
      "metadata": {
        "id": "gJHuh2mqmsCb"
      },
      "execution_count": null,
      "outputs": []
    },
    {
      "cell_type": "markdown",
      "source": [
        "\n",
        "##34 CURSOS"
      ],
      "metadata": {
        "id": "EdhdCtSxmzZF"
      }
    },
    {
      "cell_type": "code",
      "source": [
        "filtro_34 = df_usuarios_insights.Contagem_de_cursos == 34\n",
        "df_filtro_34 = df_usuarios_insights.loc[filtro_34] "
      ],
      "metadata": {
        "id": "4FdQUNdQmyT-"
      },
      "execution_count": null,
      "outputs": []
    },
    {
      "cell_type": "code",
      "source": [
        "df_usu_estranhos = pd.concat([df_filtro_34,df_filtro_35,df_filtrosoulcode,df_filtrogran]) "
      ],
      "metadata": {
        "id": "J6IzAauEAiif"
      },
      "execution_count": null,
      "outputs": []
    },
    {
      "cell_type": "markdown",
      "source": [
        "##SUBINDO PRO BQ"
      ],
      "metadata": {
        "id": "fiXaQloyJcFW"
      }
    },
    {
      "cell_type": "code",
      "source": [
        "df_usu_estranhos.to_excel('gs://projetofinal_soulcode/tratados_automocao_xlsx/df_usu_estranhos.xlsx', index=False)\n",
        "df_usu_estranhos.to_csv('gs://projetofinal_soulcode/tratados_automocao_csv/df_usu_estranhos.csv', index=False)   "
      ],
      "metadata": {
        "id": "7WuiFrDSJGY7"
      },
      "execution_count": null,
      "outputs": []
    },
    {
      "cell_type": "code",
      "source": [
        "client = bigquery.Client()"
      ],
      "metadata": {
        "id": "zxtSyx4SI39N"
      },
      "execution_count": null,
      "outputs": []
    },
    {
      "cell_type": "code",
      "source": [
        "#Enviando dataset dos cursos \n",
        "dataset_id = 'projetofinaltratados'\n",
        "dataset_ref = client.dataset(dataset_id)\n",
        "dataset = bigquery.Dataset(dataset_ref)\n",
        "dataset.location = 'US'\n",
        "client.create_dataset('usuarios_estranhos')"
      ],
      "metadata": {
        "id": "NCs3b52uIPU_"
      },
      "execution_count": null,
      "outputs": []
    },
    {
      "cell_type": "code",
      "source": [
        "table_name = 'usuarios_estranhos1'\n",
        "table_ref = dataset_ref.table(table_name)\n",
        "job_config = bigquery.LoadJobConfig()\n",
        "job_config.autodetect = True\n",
        "job_config.source_format = bigquery.SourceFormat.CSV\n",
        "job_config.skip_leading_rows = 1\n",
        "source_uri = 'gs://projetofinal_soulcode/tratados_automocao_csv/df_usu_estranhos.csv'\n",
        "\n",
        "job = client.load_table_from_uri(\n",
        "        source_uri,\n",
        "        table_ref,\n",
        "        location='US',\n",
        "        job_config=job_config)  \n",
        "job.result()"
      ],
      "metadata": {
        "id": "4JhCK0f9g0OO"
      },
      "execution_count": null,
      "outputs": []
    }
  ]
}